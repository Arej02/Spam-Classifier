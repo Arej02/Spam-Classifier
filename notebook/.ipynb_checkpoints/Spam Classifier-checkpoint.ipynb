{
 "cells": [
  {
   "cell_type": "code",
   "execution_count": 1,
   "id": "76298f91-cbb6-424b-8dc2-dd18ec9724ff",
   "metadata": {},
   "outputs": [],
   "source": [
    "import pandas as pd\n",
    "import numpy as np\n",
    "import seaborn as sns\n",
    "import matplotlib.pylab as plt"
   ]
  },
  {
   "cell_type": "code",
   "execution_count": 2,
   "id": "7d21f265-5303-494a-966e-5afbe53c757b",
   "metadata": {},
   "outputs": [],
   "source": [
    "df=pd.read_csv('spam.csv',encoding=\"latin-1\")"
   ]
  },
  {
   "cell_type": "code",
   "execution_count": 3,
   "id": "a6871a5e-b0c6-41c3-8b81-8c64a29aa351",
   "metadata": {},
   "outputs": [],
   "source": [
    "df1=df.copy()"
   ]
  },
  {
   "cell_type": "code",
   "execution_count": 4,
   "id": "ed51d85b-4fa1-469d-b133-f6c2b22973ec",
   "metadata": {},
   "outputs": [
    {
     "data": {
      "text/plain": [
       "(5572, 5)"
      ]
     },
     "execution_count": 4,
     "metadata": {},
     "output_type": "execute_result"
    }
   ],
   "source": [
    "df1.shape"
   ]
  },
  {
   "cell_type": "code",
   "execution_count": 5,
   "id": "2424a9e4-a38f-4fdf-9532-ec2730d988fd",
   "metadata": {},
   "outputs": [
    {
     "data": {
      "text/html": [
       "<div>\n",
       "<style scoped>\n",
       "    .dataframe tbody tr th:only-of-type {\n",
       "        vertical-align: middle;\n",
       "    }\n",
       "\n",
       "    .dataframe tbody tr th {\n",
       "        vertical-align: top;\n",
       "    }\n",
       "\n",
       "    .dataframe thead th {\n",
       "        text-align: right;\n",
       "    }\n",
       "</style>\n",
       "<table border=\"1\" class=\"dataframe\">\n",
       "  <thead>\n",
       "    <tr style=\"text-align: right;\">\n",
       "      <th></th>\n",
       "      <th>v1</th>\n",
       "      <th>v2</th>\n",
       "      <th>Unnamed: 2</th>\n",
       "      <th>Unnamed: 3</th>\n",
       "      <th>Unnamed: 4</th>\n",
       "    </tr>\n",
       "  </thead>\n",
       "  <tbody>\n",
       "    <tr>\n",
       "      <th>2758</th>\n",
       "      <td>ham</td>\n",
       "      <td>What time. IÛ÷m out until prob 3 or so</td>\n",
       "      <td>NaN</td>\n",
       "      <td>NaN</td>\n",
       "      <td>NaN</td>\n",
       "    </tr>\n",
       "    <tr>\n",
       "      <th>3750</th>\n",
       "      <td>ham</td>\n",
       "      <td>Haha... Sounds crazy, dunno can tahan anot...</td>\n",
       "      <td>NaN</td>\n",
       "      <td>NaN</td>\n",
       "      <td>NaN</td>\n",
       "    </tr>\n",
       "    <tr>\n",
       "      <th>4454</th>\n",
       "      <td>ham</td>\n",
       "      <td>Storming msg: Wen u lift d phne, u say \\HELLO\\...</td>\n",
       "      <td>bt not his girlfrnd... G o o d n i g h t . . .@\"</td>\n",
       "      <td>NaN</td>\n",
       "      <td>NaN</td>\n",
       "    </tr>\n",
       "    <tr>\n",
       "      <th>4712</th>\n",
       "      <td>ham</td>\n",
       "      <td>Big brotherÛ÷s really scraped the barrel with...</td>\n",
       "      <td>NaN</td>\n",
       "      <td>NaN</td>\n",
       "      <td>NaN</td>\n",
       "    </tr>\n",
       "    <tr>\n",
       "      <th>4857</th>\n",
       "      <td>ham</td>\n",
       "      <td>Ok...</td>\n",
       "      <td>NaN</td>\n",
       "      <td>NaN</td>\n",
       "      <td>NaN</td>\n",
       "    </tr>\n",
       "  </tbody>\n",
       "</table>\n",
       "</div>"
      ],
      "text/plain": [
       "       v1                                                 v2  \\\n",
       "2758  ham            What time. IÛ÷m out until prob 3 or so   \n",
       "3750  ham      Haha... Sounds crazy, dunno can tahan anot...   \n",
       "4454  ham  Storming msg: Wen u lift d phne, u say \\HELLO\\...   \n",
       "4712  ham  Big brotherÛ÷s really scraped the barrel with...   \n",
       "4857  ham                                              Ok...   \n",
       "\n",
       "                                             Unnamed: 2 Unnamed: 3 Unnamed: 4  \n",
       "2758                                                NaN        NaN        NaN  \n",
       "3750                                                NaN        NaN        NaN  \n",
       "4454   bt not his girlfrnd... G o o d n i g h t . . .@\"        NaN        NaN  \n",
       "4712                                                NaN        NaN        NaN  \n",
       "4857                                                NaN        NaN        NaN  "
      ]
     },
     "execution_count": 5,
     "metadata": {},
     "output_type": "execute_result"
    }
   ],
   "source": [
    "df1.sample(5)"
   ]
  },
  {
   "cell_type": "code",
   "execution_count": 6,
   "id": "30f44b8c-c155-4edd-ad92-2952e1a8dbd2",
   "metadata": {},
   "outputs": [
    {
     "name": "stdout",
     "output_type": "stream",
     "text": [
      "<class 'pandas.core.frame.DataFrame'>\n",
      "RangeIndex: 5572 entries, 0 to 5571\n",
      "Data columns (total 5 columns):\n",
      " #   Column      Non-Null Count  Dtype \n",
      "---  ------      --------------  ----- \n",
      " 0   v1          5572 non-null   object\n",
      " 1   v2          5572 non-null   object\n",
      " 2   Unnamed: 2  50 non-null     object\n",
      " 3   Unnamed: 3  12 non-null     object\n",
      " 4   Unnamed: 4  6 non-null      object\n",
      "dtypes: object(5)\n",
      "memory usage: 217.8+ KB\n"
     ]
    }
   ],
   "source": [
    "df1.info()"
   ]
  },
  {
   "cell_type": "markdown",
   "id": "546aa9ab-b2e1-42f8-8ff7-e9533ba29991",
   "metadata": {},
   "source": [
    "Data Cleaning:\n",
    "\n",
    "1.**Unamed-2,Unamed-3,Unamed-4**:They do not seem to add any value to our overall goal so I am planning to drop them.\n",
    "\n",
    "2.**v1 and v2**:The column name does not provide an any information about these features so I will rename it to 'Type' and 'Text'.\n",
    "\n",
    "3.**v2**:To gain useful insight, I'll change Ham to '0' and spam to '1' using Label Encoding.\n"
   ]
  },
  {
   "cell_type": "code",
   "execution_count": 7,
   "id": "57443b6a-9327-43a1-879d-c78a87b70e55",
   "metadata": {},
   "outputs": [],
   "source": [
    "df1.drop(['Unnamed: 2','Unnamed: 3','Unnamed: 4'],inplace=True,axis=1)"
   ]
  },
  {
   "cell_type": "code",
   "execution_count": 8,
   "id": "7ff5d7cf-bb71-41bb-a9d7-2625425265dd",
   "metadata": {},
   "outputs": [],
   "source": [
    "df1=df1.rename(columns={'v1':'Type','v2':'Text'})"
   ]
  },
  {
   "cell_type": "code",
   "execution_count": 9,
   "id": "ae48c4fb-f3f0-4fca-ad59-0717cff1bd1d",
   "metadata": {},
   "outputs": [],
   "source": [
    "from sklearn.preprocessing import LabelEncoder\n",
    "le=LabelEncoder()"
   ]
  },
  {
   "cell_type": "code",
   "execution_count": 10,
   "id": "8c6593d9-f633-4aa8-a85a-14d08c2fa3dd",
   "metadata": {},
   "outputs": [],
   "source": [
    "df1.Type=le.fit_transform(df1.Type)"
   ]
  },
  {
   "cell_type": "code",
   "execution_count": 11,
   "id": "baea7b69-cd4b-4c22-b065-c687f78a3e0d",
   "metadata": {},
   "outputs": [
    {
     "data": {
      "text/html": [
       "<div>\n",
       "<style scoped>\n",
       "    .dataframe tbody tr th:only-of-type {\n",
       "        vertical-align: middle;\n",
       "    }\n",
       "\n",
       "    .dataframe tbody tr th {\n",
       "        vertical-align: top;\n",
       "    }\n",
       "\n",
       "    .dataframe thead th {\n",
       "        text-align: right;\n",
       "    }\n",
       "</style>\n",
       "<table border=\"1\" class=\"dataframe\">\n",
       "  <thead>\n",
       "    <tr style=\"text-align: right;\">\n",
       "      <th></th>\n",
       "      <th>Type</th>\n",
       "      <th>Text</th>\n",
       "    </tr>\n",
       "  </thead>\n",
       "  <tbody>\n",
       "    <tr>\n",
       "      <th>5455</th>\n",
       "      <td>0</td>\n",
       "      <td>Wishing you a beautiful day. Each moment revea...</td>\n",
       "    </tr>\n",
       "    <tr>\n",
       "      <th>4109</th>\n",
       "      <td>0</td>\n",
       "      <td>Yo, you gonna still be in stock tomorrow/today...</td>\n",
       "    </tr>\n",
       "    <tr>\n",
       "      <th>4022</th>\n",
       "      <td>0</td>\n",
       "      <td>Well. Balls. Time to make calls</td>\n",
       "    </tr>\n",
       "    <tr>\n",
       "      <th>1513</th>\n",
       "      <td>0</td>\n",
       "      <td>Hows the champ just leaving glasgow!</td>\n",
       "    </tr>\n",
       "    <tr>\n",
       "      <th>1285</th>\n",
       "      <td>0</td>\n",
       "      <td>Just wondering, the others just took off</td>\n",
       "    </tr>\n",
       "  </tbody>\n",
       "</table>\n",
       "</div>"
      ],
      "text/plain": [
       "      Type                                               Text\n",
       "5455     0  Wishing you a beautiful day. Each moment revea...\n",
       "4109     0  Yo, you gonna still be in stock tomorrow/today...\n",
       "4022     0                    Well. Balls. Time to make calls\n",
       "1513     0               Hows the champ just leaving glasgow!\n",
       "1285     0           Just wondering, the others just took off"
      ]
     },
     "execution_count": 11,
     "metadata": {},
     "output_type": "execute_result"
    }
   ],
   "source": [
    "df1.sample(5)"
   ]
  },
  {
   "cell_type": "code",
   "execution_count": 12,
   "id": "5501be0e-b46f-4e2a-bce0-e5cc135985ca",
   "metadata": {},
   "outputs": [
    {
     "data": {
      "text/plain": [
       "Type    0\n",
       "Text    0\n",
       "dtype: int64"
      ]
     },
     "execution_count": 12,
     "metadata": {},
     "output_type": "execute_result"
    }
   ],
   "source": [
    "df1.isnull().sum()"
   ]
  },
  {
   "cell_type": "code",
   "execution_count": 13,
   "id": "b137e345-f173-4cf4-830c-267ff78ab45c",
   "metadata": {},
   "outputs": [],
   "source": [
    "def delete_duplicate_values(df):\n",
    "    print('Deleting the duplicated values:')\n",
    "    num=df.duplicated().sum()\n",
    "    if num>0:\n",
    "        print(f'There are {num} duplicate values in your dataset.')\n",
    "        df.drop_duplicates(keep='first',inplace=True)\n",
    "        print(f'{num} duplicate values have been deleted.')\n",
    "    else:\n",
    "        print('There are no duplicate values.')"
   ]
  },
  {
   "cell_type": "code",
   "execution_count": 14,
   "id": "25c3c49f-8fe9-4b13-a293-e656dee39fcc",
   "metadata": {},
   "outputs": [
    {
     "name": "stdout",
     "output_type": "stream",
     "text": [
      "Deleting the duplicated values:\n",
      "There are 403 duplicate values in your dataset.\n",
      "403 duplicate values have been deleted.\n"
     ]
    }
   ],
   "source": [
    "delete_duplicate_values(df1)"
   ]
  },
  {
   "cell_type": "code",
   "execution_count": 15,
   "id": "d1dc2b96-90ae-4b62-8c01-f7e97b300584",
   "metadata": {},
   "outputs": [
    {
     "data": {
      "text/plain": [
       "Type\n",
       "0    4516\n",
       "1     653\n",
       "Name: count, dtype: int64"
      ]
     },
     "execution_count": 15,
     "metadata": {},
     "output_type": "execute_result"
    }
   ],
   "source": [
    "df1.Type.value_counts()"
   ]
  },
  {
   "cell_type": "code",
   "execution_count": 16,
   "id": "4280c058-7548-408c-9568-3768fad12c4e",
   "metadata": {},
   "outputs": [
    {
     "data": {
      "image/png": "[encoded data removed]",
      "text/plain": [
       "<Figure size 640x480 with 1 Axes>"
      ]
     },
     "metadata": {},
     "output_type": "display_data"
    }
   ],
   "source": [
    "plt.pie(df1.Type.value_counts(),autopct='%0.2f',labels=['ham','spam'])\n",
    "plt.title('Pie Chart of Type of text messages')\n",
    "plt.show()"
   ]
  },
  {
   "cell_type": "markdown",
   "id": "85201e94-7bf3-498b-91b5-06be4dfb30c4",
   "metadata": {},
   "source": [
    "The dataset is highly imbalanced as 87.37% of the data are not spam and 12.63% of the data is spam. However, since my major focus is in maximizing the precision, I will not balance this dataset."
   ]
  },
  {
   "cell_type": "markdown",
   "id": "1ebb651c-c500-492c-864a-dda3f1e7da6c",
   "metadata": {},
   "source": [
    "#Text Preprocessing"
   ]
  },
  {
   "cell_type": "code",
   "execution_count": 17,
   "id": "81903390-50b4-431f-a274-b0ac8241e056",
   "metadata": {},
   "outputs": [],
   "source": [
    "import nltk"
   ]
  },
  {
   "cell_type": "code",
   "execution_count": 18,
   "id": "caa6e094-70f3-4067-ad08-a880e203ca6a",
   "metadata": {},
   "outputs": [],
   "source": [
    "#Finding the number of characters in the document:\n",
    "df1['num_characters'] = df1['Text'].apply(len)"
   ]
  },
  {
   "cell_type": "code",
   "execution_count": 19,
   "id": "1d3de75a-0bbf-49fb-afbc-92ec1ffa053b",
   "metadata": {},
   "outputs": [],
   "source": [
    "#nltk.download('punkt')\n",
    "#nltk.download('punkt_tab')\n",
    "df1['num_words']=df1.Text.apply(lambda x:len(nltk.word_tokenize(x)))"
   ]
  },
  {
   "cell_type": "code",
   "execution_count": 20,
   "id": "72d5cf36-f1ff-46e2-a538-77076a8b6c23",
   "metadata": {},
   "outputs": [],
   "source": [
    "df1['num_sentences']=df1.Text.apply(lambda x:len(nltk.sent_tokenize(x)))"
   ]
  },
  {
   "cell_type": "code",
   "execution_count": 21,
   "id": "6d35f8f0-6d7a-4c44-8cf5-6979bf6ae471",
   "metadata": {},
   "outputs": [
    {
     "data": {
      "text/html": [
       "<div>\n",
       "<style scoped>\n",
       "    .dataframe tbody tr th:only-of-type {\n",
       "        vertical-align: middle;\n",
       "    }\n",
       "\n",
       "    .dataframe tbody tr th {\n",
       "        vertical-align: top;\n",
       "    }\n",
       "\n",
       "    .dataframe thead th {\n",
       "        text-align: right;\n",
       "    }\n",
       "</style>\n",
       "<table border=\"1\" class=\"dataframe\">\n",
       "  <thead>\n",
       "    <tr style=\"text-align: right;\">\n",
       "      <th></th>\n",
       "      <th>Type</th>\n",
       "      <th>Text</th>\n",
       "      <th>num_characters</th>\n",
       "      <th>num_words</th>\n",
       "      <th>num_sentences</th>\n",
       "    </tr>\n",
       "  </thead>\n",
       "  <tbody>\n",
       "    <tr>\n",
       "      <th>1612</th>\n",
       "      <td>1</td>\n",
       "      <td>RT-KIng Pro Video Club&gt;&gt; Need help? info@ringt...</td>\n",
       "      <td>153</td>\n",
       "      <td>27</td>\n",
       "      <td>3</td>\n",
       "    </tr>\n",
       "    <tr>\n",
       "      <th>2548</th>\n",
       "      <td>0</td>\n",
       "      <td>Honestly i've just made a lovely cup of tea an...</td>\n",
       "      <td>122</td>\n",
       "      <td>26</td>\n",
       "      <td>1</td>\n",
       "    </tr>\n",
       "    <tr>\n",
       "      <th>3463</th>\n",
       "      <td>0</td>\n",
       "      <td>My phone</td>\n",
       "      <td>8</td>\n",
       "      <td>2</td>\n",
       "      <td>1</td>\n",
       "    </tr>\n",
       "    <tr>\n",
       "      <th>1783</th>\n",
       "      <td>0</td>\n",
       "      <td>No dear i do have free messages without any re...</td>\n",
       "      <td>62</td>\n",
       "      <td>14</td>\n",
       "      <td>2</td>\n",
       "    </tr>\n",
       "    <tr>\n",
       "      <th>3733</th>\n",
       "      <td>0</td>\n",
       "      <td>4 tacos + 1 rajas burrito, right?</td>\n",
       "      <td>33</td>\n",
       "      <td>9</td>\n",
       "      <td>1</td>\n",
       "    </tr>\n",
       "  </tbody>\n",
       "</table>\n",
       "</div>"
      ],
      "text/plain": [
       "      Type                                               Text  num_characters  \\\n",
       "1612     1  RT-KIng Pro Video Club>> Need help? info@ringt...             153   \n",
       "2548     0  Honestly i've just made a lovely cup of tea an...             122   \n",
       "3463     0                                           My phone               8   \n",
       "1783     0  No dear i do have free messages without any re...              62   \n",
       "3733     0                  4 tacos + 1 rajas burrito, right?              33   \n",
       "\n",
       "      num_words  num_sentences  \n",
       "1612         27              3  \n",
       "2548         26              1  \n",
       "3463          2              1  \n",
       "1783         14              2  \n",
       "3733          9              1  "
      ]
     },
     "execution_count": 21,
     "metadata": {},
     "output_type": "execute_result"
    }
   ],
   "source": [
    "df1.sample(5)"
   ]
  },
  {
   "cell_type": "code",
   "execution_count": 22,
   "id": "1c001dd2-c9ba-41b5-b0df-2e72a75c3ee2",
   "metadata": {},
   "outputs": [
    {
     "data": {
      "text/html": [
       "<div>\n",
       "<style scoped>\n",
       "    .dataframe tbody tr th:only-of-type {\n",
       "        vertical-align: middle;\n",
       "    }\n",
       "\n",
       "    .dataframe tbody tr th {\n",
       "        vertical-align: top;\n",
       "    }\n",
       "\n",
       "    .dataframe thead th {\n",
       "        text-align: right;\n",
       "    }\n",
       "</style>\n",
       "<table border=\"1\" class=\"dataframe\">\n",
       "  <thead>\n",
       "    <tr style=\"text-align: right;\">\n",
       "      <th></th>\n",
       "      <th>count</th>\n",
       "      <th>mean</th>\n",
       "      <th>std</th>\n",
       "      <th>min</th>\n",
       "      <th>25%</th>\n",
       "      <th>50%</th>\n",
       "      <th>75%</th>\n",
       "      <th>max</th>\n",
       "    </tr>\n",
       "  </thead>\n",
       "  <tbody>\n",
       "    <tr>\n",
       "      <th>num_characters</th>\n",
       "      <td>5169.0</td>\n",
       "      <td>78.977945</td>\n",
       "      <td>58.236293</td>\n",
       "      <td>2.0</td>\n",
       "      <td>36.0</td>\n",
       "      <td>60.0</td>\n",
       "      <td>117.0</td>\n",
       "      <td>910.0</td>\n",
       "    </tr>\n",
       "    <tr>\n",
       "      <th>num_words</th>\n",
       "      <td>5169.0</td>\n",
       "      <td>18.455794</td>\n",
       "      <td>13.324758</td>\n",
       "      <td>1.0</td>\n",
       "      <td>9.0</td>\n",
       "      <td>15.0</td>\n",
       "      <td>26.0</td>\n",
       "      <td>220.0</td>\n",
       "    </tr>\n",
       "    <tr>\n",
       "      <th>num_sentences</th>\n",
       "      <td>5169.0</td>\n",
       "      <td>1.965564</td>\n",
       "      <td>1.448541</td>\n",
       "      <td>1.0</td>\n",
       "      <td>1.0</td>\n",
       "      <td>1.0</td>\n",
       "      <td>2.0</td>\n",
       "      <td>38.0</td>\n",
       "    </tr>\n",
       "  </tbody>\n",
       "</table>\n",
       "</div>"
      ],
      "text/plain": [
       "                 count       mean        std  min   25%   50%    75%    max\n",
       "num_characters  5169.0  78.977945  58.236293  2.0  36.0  60.0  117.0  910.0\n",
       "num_words       5169.0  18.455794  13.324758  1.0   9.0  15.0   26.0  220.0\n",
       "num_sentences   5169.0   1.965564   1.448541  1.0   1.0   1.0    2.0   38.0"
      ]
     },
     "execution_count": 22,
     "metadata": {},
     "output_type": "execute_result"
    }
   ],
   "source": [
    "df1[['num_characters','num_words','num_sentences']].describe().T"
   ]
  },
  {
   "cell_type": "markdown",
   "id": "3b761fff-4c5d-4625-aa34-bf0ef9bb2f59",
   "metadata": {},
   "source": [
    "Number of Words: The mean number of words is 18 words per sentence. However there is a sentence which has 220 words which seems way of than the 75th percentile which is 26 words.\n",
    "\n",
    "Number of Sentences: Usually each document has a mean of 2 sentences, however there is a document that has 38 sentences which is also far of from the 75th percentile which is 2 sentences."
   ]
  },
  {
   "cell_type": "code",
   "execution_count": 23,
   "id": "dc2b8ddb-e19d-48d3-a2ff-adb133600c2a",
   "metadata": {},
   "outputs": [],
   "source": [
    "pd.set_option('display.max_colwidth', None)"
   ]
  },
  {
   "cell_type": "code",
   "execution_count": 24,
   "id": "fe5ad08b-03e7-410d-a88b-c3d193701735",
   "metadata": {},
   "outputs": [
    {
     "data": {
      "text/html": [
       "<div>\n",
       "<style scoped>\n",
       "    .dataframe tbody tr th:only-of-type {\n",
       "        vertical-align: middle;\n",
       "    }\n",
       "\n",
       "    .dataframe tbody tr th {\n",
       "        vertical-align: top;\n",
       "    }\n",
       "\n",
       "    .dataframe thead th {\n",
       "        text-align: right;\n",
       "    }\n",
       "</style>\n",
       "<table border=\"1\" class=\"dataframe\">\n",
       "  <thead>\n",
       "    <tr style=\"text-align: right;\">\n",
       "      <th></th>\n",
       "      <th>Type</th>\n",
       "      <th>Text</th>\n",
       "      <th>num_characters</th>\n",
       "      <th>num_words</th>\n",
       "      <th>num_sentences</th>\n",
       "    </tr>\n",
       "  </thead>\n",
       "  <tbody>\n",
       "    <tr>\n",
       "      <th>1578</th>\n",
       "      <td>0</td>\n",
       "      <td>How to Make a girl Happy? It's not at all difficult to make girls happy. U only need to be... 1. A friend 2. Companion 3. Lover 4. Chef . . .  &amp;lt;#&amp;gt; . Good listener  &amp;lt;#&amp;gt; . Organizer  &amp;lt;#&amp;gt; . Good boyfriend  &amp;lt;#&amp;gt; . Very clean  &amp;lt;#&amp;gt; . Sympathetic  &amp;lt;#&amp;gt; . Athletic  &amp;lt;#&amp;gt; . Warm . . .  &amp;lt;#&amp;gt; . Courageous  &amp;lt;#&amp;gt; . Determined  &amp;lt;#&amp;gt; . True  &amp;lt;#&amp;gt; . Dependable  &amp;lt;#&amp;gt; . Intelligent . . .  &amp;lt;#&amp;gt; . Psychologist  &amp;lt;#&amp;gt; . Pest exterminator  &amp;lt;#&amp;gt; . Psychiatrist  &amp;lt;#&amp;gt; . Healer . .  &amp;lt;#&amp;gt; . Stylist  &amp;lt;#&amp;gt; . Driver . . Aaniye pudunga venaam..</td>\n",
       "      <td>611</td>\n",
       "      <td>220</td>\n",
       "      <td>38</td>\n",
       "    </tr>\n",
       "  </tbody>\n",
       "</table>\n",
       "</div>"
      ],
      "text/plain": [
       "      Type  \\\n",
       "1578     0   \n",
       "\n",
       "                                                                                                                                                                                                                                                                                                                                                                                                                                                                                                                                                                                                                                     Text  \\\n",
       "1578  How to Make a girl Happy? It's not at all difficult to make girls happy. U only need to be... 1. A friend 2. Companion 3. Lover 4. Chef . . .  &lt;#&gt; . Good listener  &lt;#&gt; . Organizer  &lt;#&gt; . Good boyfriend  &lt;#&gt; . Very clean  &lt;#&gt; . Sympathetic  &lt;#&gt; . Athletic  &lt;#&gt; . Warm . . .  &lt;#&gt; . Courageous  &lt;#&gt; . Determined  &lt;#&gt; . True  &lt;#&gt; . Dependable  &lt;#&gt; . Intelligent . . .  &lt;#&gt; . Psychologist  &lt;#&gt; . Pest exterminator  &lt;#&gt; . Psychiatrist  &lt;#&gt; . Healer . .  &lt;#&gt; . Stylist  &lt;#&gt; . Driver . . Aaniye pudunga venaam..   \n",
       "\n",
       "      num_characters  num_words  num_sentences  \n",
       "1578             611        220             38  "
      ]
     },
     "execution_count": 24,
     "metadata": {},
     "output_type": "execute_result"
    }
   ],
   "source": [
    "df1[df1.num_words==220]"
   ]
  },
  {
   "cell_type": "markdown",
   "id": "547ccebe-8a97-45ba-a86e-af6c5b55828f",
   "metadata": {},
   "source": [
    "This row is an outlier and the formatting of the text of this also looks like a joke. This text does not contain any suspicious word that would categorize it as spam but the words'Aaniye pudunga venaam' is grammatically incorrect. So, I have planned to remove this text as it looks like a potential spam/joke to me."
   ]
  },
  {
   "cell_type": "code",
   "execution_count": 25,
   "id": "e94f08b1-4a87-4c62-a6c9-e52201f17ca7",
   "metadata": {},
   "outputs": [],
   "source": [
    "df1.drop(index=1578,inplace=True)"
   ]
  },
  {
   "cell_type": "code",
   "execution_count": 26,
   "id": "712d9a80-83b7-4842-88d9-c51cb929d6ea",
   "metadata": {},
   "outputs": [
    {
     "data": {
      "text/html": [
       "<div>\n",
       "<style scoped>\n",
       "    .dataframe tbody tr th:only-of-type {\n",
       "        vertical-align: middle;\n",
       "    }\n",
       "\n",
       "    .dataframe tbody tr th {\n",
       "        vertical-align: top;\n",
       "    }\n",
       "\n",
       "    .dataframe thead th {\n",
       "        text-align: right;\n",
       "    }\n",
       "</style>\n",
       "<table border=\"1\" class=\"dataframe\">\n",
       "  <thead>\n",
       "    <tr style=\"text-align: right;\">\n",
       "      <th></th>\n",
       "      <th>count</th>\n",
       "      <th>mean</th>\n",
       "      <th>std</th>\n",
       "      <th>min</th>\n",
       "      <th>25%</th>\n",
       "      <th>50%</th>\n",
       "      <th>75%</th>\n",
       "      <th>max</th>\n",
       "    </tr>\n",
       "  </thead>\n",
       "  <tbody>\n",
       "    <tr>\n",
       "      <th>num_characters</th>\n",
       "      <td>5168.0</td>\n",
       "      <td>78.875000</td>\n",
       "      <td>57.769644</td>\n",
       "      <td>2.0</td>\n",
       "      <td>36.0</td>\n",
       "      <td>60.0</td>\n",
       "      <td>117.0</td>\n",
       "      <td>910.0</td>\n",
       "    </tr>\n",
       "    <tr>\n",
       "      <th>num_words</th>\n",
       "      <td>5168.0</td>\n",
       "      <td>18.416796</td>\n",
       "      <td>13.027685</td>\n",
       "      <td>1.0</td>\n",
       "      <td>9.0</td>\n",
       "      <td>15.0</td>\n",
       "      <td>26.0</td>\n",
       "      <td>196.0</td>\n",
       "    </tr>\n",
       "    <tr>\n",
       "      <th>num_sentences</th>\n",
       "      <td>5168.0</td>\n",
       "      <td>1.958591</td>\n",
       "      <td>1.359164</td>\n",
       "      <td>1.0</td>\n",
       "      <td>1.0</td>\n",
       "      <td>1.0</td>\n",
       "      <td>2.0</td>\n",
       "      <td>18.0</td>\n",
       "    </tr>\n",
       "  </tbody>\n",
       "</table>\n",
       "</div>"
      ],
      "text/plain": [
       "                 count       mean        std  min   25%   50%    75%    max\n",
       "num_characters  5168.0  78.875000  57.769644  2.0  36.0  60.0  117.0  910.0\n",
       "num_words       5168.0  18.416796  13.027685  1.0   9.0  15.0   26.0  196.0\n",
       "num_sentences   5168.0   1.958591   1.359164  1.0   1.0   1.0    2.0   18.0"
      ]
     },
     "execution_count": 26,
     "metadata": {},
     "output_type": "execute_result"
    }
   ],
   "source": [
    "df1[['num_characters','num_words','num_sentences']].describe().T"
   ]
  },
  {
   "cell_type": "code",
   "execution_count": 27,
   "id": "28931ef6-e580-4dcb-959e-928444d6865d",
   "metadata": {},
   "outputs": [
    {
     "data": {
      "text/html": [
       "<div>\n",
       "<style scoped>\n",
       "    .dataframe tbody tr th:only-of-type {\n",
       "        vertical-align: middle;\n",
       "    }\n",
       "\n",
       "    .dataframe tbody tr th {\n",
       "        vertical-align: top;\n",
       "    }\n",
       "\n",
       "    .dataframe thead th {\n",
       "        text-align: right;\n",
       "    }\n",
       "</style>\n",
       "<table border=\"1\" class=\"dataframe\">\n",
       "  <thead>\n",
       "    <tr style=\"text-align: right;\">\n",
       "      <th></th>\n",
       "      <th>Type</th>\n",
       "      <th>Text</th>\n",
       "      <th>num_characters</th>\n",
       "      <th>num_words</th>\n",
       "      <th>num_sentences</th>\n",
       "    </tr>\n",
       "  </thead>\n",
       "  <tbody>\n",
       "    <tr>\n",
       "      <th>1862</th>\n",
       "      <td>0</td>\n",
       "      <td>The last thing i ever wanted to do was hurt you. And i didn't think it would have. You'd laugh, be embarassed, delete the tag and keep going. But as far as i knew, it wasn't even up. The fact that you even felt like i would do it to hurt you shows you really don't know me at all. It was messy wednesday, but it wasn't bad. The problem i have with it is you HAVE the time to clean it, but you choose not to. You skype, you take pictures, you sleep, you want to go out. I don't mind a few things here and there, but when you don't make the bed, when you throw laundry on top of it, when i can't have a friend in the house because i'm embarassed that there's underwear and bras strewn on the bed, pillows on the floor, that's something else. You used to be good about at least making the bed.</td>\n",
       "      <td>790</td>\n",
       "      <td>196</td>\n",
       "      <td>10</td>\n",
       "    </tr>\n",
       "  </tbody>\n",
       "</table>\n",
       "</div>"
      ],
      "text/plain": [
       "      Type  \\\n",
       "1862     0   \n",
       "\n",
       "                                                                                                                                                                                                                                                                                                                                                                                                                                                                                                                                                                                                                                                                                                                                                                                                                        Text  \\\n",
       "1862  The last thing i ever wanted to do was hurt you. And i didn't think it would have. You'd laugh, be embarassed, delete the tag and keep going. But as far as i knew, it wasn't even up. The fact that you even felt like i would do it to hurt you shows you really don't know me at all. It was messy wednesday, but it wasn't bad. The problem i have with it is you HAVE the time to clean it, but you choose not to. You skype, you take pictures, you sleep, you want to go out. I don't mind a few things here and there, but when you don't make the bed, when you throw laundry on top of it, when i can't have a friend in the house because i'm embarassed that there's underwear and bras strewn on the bed, pillows on the floor, that's something else. You used to be good about at least making the bed.   \n",
       "\n",
       "      num_characters  num_words  num_sentences  \n",
       "1862             790        196             10  "
      ]
     },
     "execution_count": 27,
     "metadata": {},
     "output_type": "execute_result"
    }
   ],
   "source": [
    "df1[df1.num_words==196]"
   ]
  },
  {
   "cell_type": "markdown",
   "id": "72f4ff35-a78a-4c72-9bae-d30ca1bbea61",
   "metadata": {},
   "source": [
    "This looks like a geniue message so I am keeping it even when the number of sentences and words is way beyound in comparision with other documnets."
   ]
  },
  {
   "cell_type": "code",
   "execution_count": 28,
   "id": "7d2ebd60-d921-431d-8a1e-960c151b75ee",
   "metadata": {},
   "outputs": [
    {
     "data": {
      "text/html": [
       "<div>\n",
       "<style scoped>\n",
       "    .dataframe tbody tr th:only-of-type {\n",
       "        vertical-align: middle;\n",
       "    }\n",
       "\n",
       "    .dataframe tbody tr th {\n",
       "        vertical-align: top;\n",
       "    }\n",
       "\n",
       "    .dataframe thead th {\n",
       "        text-align: right;\n",
       "    }\n",
       "</style>\n",
       "<table border=\"1\" class=\"dataframe\">\n",
       "  <thead>\n",
       "    <tr style=\"text-align: right;\">\n",
       "      <th></th>\n",
       "      <th>count</th>\n",
       "      <th>mean</th>\n",
       "      <th>std</th>\n",
       "      <th>min</th>\n",
       "      <th>25%</th>\n",
       "      <th>50%</th>\n",
       "      <th>75%</th>\n",
       "      <th>max</th>\n",
       "    </tr>\n",
       "  </thead>\n",
       "  <tbody>\n",
       "    <tr>\n",
       "      <th>num_characters</th>\n",
       "      <td>4515.0</td>\n",
       "      <td>70.339535</td>\n",
       "      <td>55.787170</td>\n",
       "      <td>2.0</td>\n",
       "      <td>34.0</td>\n",
       "      <td>52.0</td>\n",
       "      <td>90.0</td>\n",
       "      <td>910.0</td>\n",
       "    </tr>\n",
       "    <tr>\n",
       "      <th>num_words</th>\n",
       "      <td>4515.0</td>\n",
       "      <td>17.078848</td>\n",
       "      <td>13.153232</td>\n",
       "      <td>1.0</td>\n",
       "      <td>8.0</td>\n",
       "      <td>13.0</td>\n",
       "      <td>22.0</td>\n",
       "      <td>196.0</td>\n",
       "    </tr>\n",
       "    <tr>\n",
       "      <th>num_sentences</th>\n",
       "      <td>4515.0</td>\n",
       "      <td>1.812182</td>\n",
       "      <td>1.274710</td>\n",
       "      <td>1.0</td>\n",
       "      <td>1.0</td>\n",
       "      <td>1.0</td>\n",
       "      <td>2.0</td>\n",
       "      <td>18.0</td>\n",
       "    </tr>\n",
       "  </tbody>\n",
       "</table>\n",
       "</div>"
      ],
      "text/plain": [
       "                 count       mean        std  min   25%   50%   75%    max\n",
       "num_characters  4515.0  70.339535  55.787170  2.0  34.0  52.0  90.0  910.0\n",
       "num_words       4515.0  17.078848  13.153232  1.0   8.0  13.0  22.0  196.0\n",
       "num_sentences   4515.0   1.812182   1.274710  1.0   1.0   1.0   2.0   18.0"
      ]
     },
     "execution_count": 28,
     "metadata": {},
     "output_type": "execute_result"
    }
   ],
   "source": [
    "df1[df1.Type==0][['num_characters','num_words','num_sentences']].describe().T"
   ]
  },
  {
   "cell_type": "code",
   "execution_count": 29,
   "id": "f6df426f-74bf-4e7d-93a0-ff6d404974cb",
   "metadata": {},
   "outputs": [
    {
     "data": {
      "text/html": [
       "<div>\n",
       "<style scoped>\n",
       "    .dataframe tbody tr th:only-of-type {\n",
       "        vertical-align: middle;\n",
       "    }\n",
       "\n",
       "    .dataframe tbody tr th {\n",
       "        vertical-align: top;\n",
       "    }\n",
       "\n",
       "    .dataframe thead th {\n",
       "        text-align: right;\n",
       "    }\n",
       "</style>\n",
       "<table border=\"1\" class=\"dataframe\">\n",
       "  <thead>\n",
       "    <tr style=\"text-align: right;\">\n",
       "      <th></th>\n",
       "      <th>count</th>\n",
       "      <th>mean</th>\n",
       "      <th>std</th>\n",
       "      <th>min</th>\n",
       "      <th>25%</th>\n",
       "      <th>50%</th>\n",
       "      <th>75%</th>\n",
       "      <th>max</th>\n",
       "    </tr>\n",
       "  </thead>\n",
       "  <tbody>\n",
       "    <tr>\n",
       "      <th>num_characters</th>\n",
       "      <td>653.0</td>\n",
       "      <td>137.891271</td>\n",
       "      <td>30.137753</td>\n",
       "      <td>13.0</td>\n",
       "      <td>132.0</td>\n",
       "      <td>149.0</td>\n",
       "      <td>157.0</td>\n",
       "      <td>224.0</td>\n",
       "    </tr>\n",
       "    <tr>\n",
       "      <th>num_words</th>\n",
       "      <td>653.0</td>\n",
       "      <td>27.667688</td>\n",
       "      <td>7.008418</td>\n",
       "      <td>2.0</td>\n",
       "      <td>25.0</td>\n",
       "      <td>29.0</td>\n",
       "      <td>32.0</td>\n",
       "      <td>46.0</td>\n",
       "    </tr>\n",
       "    <tr>\n",
       "      <th>num_sentences</th>\n",
       "      <td>653.0</td>\n",
       "      <td>2.970904</td>\n",
       "      <td>1.488425</td>\n",
       "      <td>1.0</td>\n",
       "      <td>2.0</td>\n",
       "      <td>3.0</td>\n",
       "      <td>4.0</td>\n",
       "      <td>9.0</td>\n",
       "    </tr>\n",
       "  </tbody>\n",
       "</table>\n",
       "</div>"
      ],
      "text/plain": [
       "                count        mean        std   min    25%    50%    75%    max\n",
       "num_characters  653.0  137.891271  30.137753  13.0  132.0  149.0  157.0  224.0\n",
       "num_words       653.0   27.667688   7.008418   2.0   25.0   29.0   32.0   46.0\n",
       "num_sentences   653.0    2.970904   1.488425   1.0    2.0    3.0    4.0    9.0"
      ]
     },
     "execution_count": 29,
     "metadata": {},
     "output_type": "execute_result"
    }
   ],
   "source": [
    "df1[df1.Type==1][['num_characters','num_words','num_sentences']].describe().T"
   ]
  },
  {
   "cell_type": "markdown",
   "id": "2788280c-eb69-4ab9-bedf-1c9a6b08cb96",
   "metadata": {},
   "source": [
    "#From the above table we can clearly see that usually spam emails have a median of 29 words,whereas, ham messages ham an median of 13 words. On average, spam messages contains 16 words more than ham messages."
   ]
  },
  {
   "cell_type": "code",
   "execution_count": 30,
   "id": "dfa4a1db-b6e0-474a-9d5e-534ec203b5ef",
   "metadata": {},
   "outputs": [
    {
     "data": {
      "image/png": "[encoded data removed]",
      "text/plain": [
       "<Figure size 640x480 with 1 Axes>"
      ]
     },
     "metadata": {},
     "output_type": "display_data"
    }
   ],
   "source": [
    "sns.histplot(df1[df1.Type==0]['num_characters'],color='green',kde=True,label='Not Spam')\n",
    "sns.histplot(df1[df1.Type==1]['num_characters'],color='red',kde=True,label='Spam')\n",
    "plt.legend(title='Message Type')\n",
    "plt.title('Distribution of Number of Characters for Spam vs. Non-Spam Messages')\n",
    "plt.show()"
   ]
  },
  {
   "cell_type": "code",
   "execution_count": 31,
   "id": "91bf184f-a87d-41b5-87f5-588464fd24d7",
   "metadata": {},
   "outputs": [],
   "source": [
    "ham_skewness=df1[df1.Type==0]['num_characters'].skew()\n",
    "spam_skewness=df1[df1.Type==1]['num_characters'].skew()"
   ]
  },
  {
   "cell_type": "code",
   "execution_count": 32,
   "id": "852b977d-9bb6-4ab7-8514-8987bd5eeac5",
   "metadata": {},
   "outputs": [
    {
     "name": "stdout",
     "output_type": "stream",
     "text": [
      " The skewness of characters in not spam messages is: 3.410638138750707\n",
      " The skewness of characters in spam messages is: -1.7133837509335121\n"
     ]
    }
   ],
   "source": [
    "print(f' The skewness of characters in not spam messages is: {ham_skewness}')\n",
    "print(f' The skewness of characters in spam messages is: {spam_skewness}')"
   ]
  },
  {
   "cell_type": "code",
   "execution_count": 33,
   "id": "46897e13-c65e-47ce-bdc0-abda393526f7",
   "metadata": {},
   "outputs": [
    {
     "data": {
      "image/png": "[encoded data removed]",
      "text/plain": [
       "<Figure size 640x480 with 1 Axes>"
      ]
     },
     "metadata": {},
     "output_type": "display_data"
    }
   ],
   "source": [
    "sns.histplot(df1[df1.Type==0]['num_words'],color='purple',kde=True,label='Not Spam')\n",
    "sns.histplot(df1[df1.Type==1]['num_words'],color='blue',kde=True,label='Spam')\n",
    "plt.legend(title='Message Type')\n",
    "plt.title('Distribution of Number of Words for Spam vs. Non-Spam Messages')\n",
    "plt.show()"
   ]
  },
  {
   "cell_type": "code",
   "execution_count": 34,
   "id": "59604d0c-bb3f-4627-80e3-a6b4c203cdad",
   "metadata": {},
   "outputs": [],
   "source": [
    "ham_skewness=df1[df1.Type==0]['num_words'].skew()\n",
    "spam_skewness=df1[df1.Type==1]['num_words'].skew()"
   ]
  },
  {
   "cell_type": "code",
   "execution_count": 35,
   "id": "c7a3f985-9b69-4a62-9954-e1c9cda78e88",
   "metadata": {},
   "outputs": [
    {
     "name": "stdout",
     "output_type": "stream",
     "text": [
      " The skewness of words in not spam messages is:3.34569446738514\n",
      " The skewness of words in spam messages is: -0.9478264971647723\n"
     ]
    }
   ],
   "source": [
    "print(f' The skewness of words in not spam messages is:{ham_skewness}')\n",
    "print(f' The skewness of words in spam messages is: {spam_skewness}')"
   ]
  },
  {
   "cell_type": "code",
   "execution_count": 36,
   "id": "27c8252a-9ea3-4d7f-90b2-080032165165",
   "metadata": {},
   "outputs": [
    {
     "data": {
      "image/png": "[encoded data removed]",
      "text/plain": [
       "<Figure size 640x480 with 1 Axes>"
      ]
     },
     "metadata": {},
     "output_type": "display_data"
    }
   ],
   "source": [
    "sns.histplot(df1[df1.Type==0]['num_sentences'],color='yellow',kde=True,label='Not Spam')\n",
    "sns.histplot(df1[df1.Type==1]['num_sentences'],color='black',kde=True,label='Spam')\n",
    "plt.legend(title='Message Type')\n",
    "plt.title('Distribution of Number of Sentences for Spam vs. Non-Spam Messages')\n",
    "plt.show()"
   ]
  },
  {
   "cell_type": "code",
   "execution_count": 39,
   "id": "f2663664-1bf2-4664-beb5-38a0d5c6f4c9",
   "metadata": {},
   "outputs": [],
   "source": [
    "ham_skewness=df1[df1.Type==0]['num_sentences'].skew()\n",
    "spam_skewness=df1[df1.Type==1]['num_sentences'].skew()"
   ]
  },
  {
   "cell_type": "code",
   "execution_count": 40,
   "id": "dee4f705-e868-473f-a473-2ba3a73873ab",
   "metadata": {},
   "outputs": [
    {
     "name": "stdout",
     "output_type": "stream",
     "text": [
      " The skewness of sentences in not spam messages is: 3.012645180334055\n",
      " The skewness of sentences in spam messages is: 0.6518254613126102\n"
     ]
    }
   ],
   "source": [
    "print(f' The skewness of sentences in not spam messages is: {ham_skewness}')\n",
    "print(f' The skewness of sentences in spam messages is: {spam_skewness}')"
   ]
  },
  {
   "cell_type": "code",
   "execution_count": null,
   "id": "4e820129-c727-428d-b1b3-aed8624d56a4",
   "metadata": {},
   "outputs": [],
   "source": []
  }
 ],
 "metadata": {
  "kernelspec": {
   "display_name": "Python 3 (ipykernel)",
   "language": "python",
   "name": "python3"
  },
  "language_info": {
   "codemirror_mode": {
    "name": "ipython",
    "version": 3
   },
   "file_extension": ".py",
   "mimetype": "text/x-python",
   "name": "python",
   "nbconvert_exporter": "python",
   "pygments_lexer": "ipython3",
   "version": "3.12.7"
  }
 },
 "nbformat": 4,
 "nbformat_minor": 5
}
